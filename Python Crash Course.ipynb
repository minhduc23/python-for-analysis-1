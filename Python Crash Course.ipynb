{
 "cells": [
  {
   "cell_type": "markdown",
   "id": "06035813",
   "metadata": {},
   "source": [
    "# Basic Data Types"
   ]
  },
  {
   "cell_type": "code",
   "execution_count": 1,
   "id": "5c4e6901",
   "metadata": {},
   "outputs": [
    {
     "data": {
      "text/plain": [
       "-2"
      ]
     },
     "execution_count": 1,
     "metadata": {},
     "output_type": "execute_result"
    }
   ],
   "source": [
    "#Integer\n",
    "1\n",
    "5\n",
    "-2 "
   ]
  },
  {
   "cell_type": "code",
   "execution_count": 2,
   "id": "ed3dd633",
   "metadata": {},
   "outputs": [
    {
     "data": {
      "text/plain": [
       "3.14"
      ]
     },
     "execution_count": 2,
     "metadata": {},
     "output_type": "execute_result"
    }
   ],
   "source": [
    "#Float\n",
    "3.14"
   ]
  },
  {
   "cell_type": "code",
   "execution_count": 4,
   "id": "c94ff969",
   "metadata": {},
   "outputs": [
    {
     "data": {
      "text/plain": [
       "'Hello World'"
      ]
     },
     "execution_count": 4,
     "metadata": {},
     "output_type": "execute_result"
    }
   ],
   "source": [
    "#String: characters goes within single quote or double quotes\n",
    "'Hello World'"
   ]
  },
  {
   "cell_type": "code",
   "execution_count": 7,
   "id": "b4b95eb3",
   "metadata": {},
   "outputs": [
    {
     "data": {
      "text/plain": [
       "False"
      ]
     },
     "execution_count": 7,
     "metadata": {},
     "output_type": "execute_result"
    }
   ],
   "source": [
    "#Boolean: True or False\n",
    "True\n",
    "False"
   ]
  },
  {
   "cell_type": "code",
   "execution_count": 8,
   "id": "b9d30bd6",
   "metadata": {},
   "outputs": [
    {
     "data": {
      "text/plain": [
       "True"
      ]
     },
     "execution_count": 8,
     "metadata": {},
     "output_type": "execute_result"
    }
   ],
   "source": [
    "5 < 7 "
   ]
  },
  {
   "cell_type": "code",
   "execution_count": 12,
   "id": "f07c955c",
   "metadata": {},
   "outputs": [],
   "source": [
    "#None: a special data types represent nothing or the absent of data\n",
    "None"
   ]
  },
  {
   "cell_type": "markdown",
   "id": "5a1d5870",
   "metadata": {},
   "source": [
    "# Operators"
   ]
  },
  {
   "cell_type": "code",
   "execution_count": 16,
   "id": "0f0c5dbe",
   "metadata": {},
   "outputs": [
    {
     "data": {
      "text/plain": [
       "'racecar'"
      ]
     },
     "execution_count": 16,
     "metadata": {},
     "output_type": "execute_result"
    }
   ],
   "source": [
    "# + sign can go with string, also called \"concatenation\"\n",
    "'race' + 'car'"
   ]
  },
  {
   "cell_type": "code",
   "execution_count": 20,
   "id": "43f3b861",
   "metadata": {},
   "outputs": [
    {
     "data": {
      "text/plain": [
       "5.0"
      ]
     },
     "execution_count": 20,
     "metadata": {},
     "output_type": "execute_result"
    }
   ],
   "source": [
    "# when use division, always get a floating number, even if it evenly divisible\n",
    "10 / 2\n",
    "# 10 / 3"
   ]
  },
  {
   "cell_type": "code",
   "execution_count": 24,
   "id": "043f8455",
   "metadata": {},
   "outputs": [
    {
     "data": {
      "text/plain": [
       "3"
      ]
     },
     "execution_count": 24,
     "metadata": {},
     "output_type": "execute_result"
    }
   ],
   "source": [
    "# floor division: chop the floating point number, does not round the number\n",
    "10 // 3\n",
    "# 14 // 3 (return 4, not 4.67, not 5)"
   ]
  },
  {
   "cell_type": "code",
   "execution_count": 26,
   "id": "311f0a07",
   "metadata": {},
   "outputs": [
    {
     "data": {
      "text/plain": [
       "2"
      ]
     },
     "execution_count": 26,
     "metadata": {},
     "output_type": "execute_result"
    }
   ],
   "source": [
    "# module operator: the remainder of a division\n",
    "14 % 3"
   ]
  },
  {
   "cell_type": "code",
   "execution_count": 29,
   "id": "97e8c095",
   "metadata": {},
   "outputs": [
    {
     "data": {
      "text/plain": [
       "False"
      ]
     },
     "execution_count": 29,
     "metadata": {},
     "output_type": "execute_result"
    }
   ],
   "source": [
    "# Equality operator: == \n",
    "1 == 1\n",
    "# Case sensitivity matters\n",
    "\"Hello\" == 'hello'"
   ]
  },
  {
   "cell_type": "code",
   "execution_count": 30,
   "id": "cb4a98b2",
   "metadata": {},
   "outputs": [
    {
     "data": {
      "text/plain": [
       "True"
      ]
     },
     "execution_count": 30,
     "metadata": {},
     "output_type": "execute_result"
    }
   ],
   "source": [
    "# Inequality operator --> !=\n",
    "5 != 10"
   ]
  },
  {
   "cell_type": "markdown",
   "id": "be2e2038",
   "metadata": {},
   "source": [
    "## Variables"
   ]
  },
  {
   "cell_type": "code",
   "execution_count": 31,
   "id": "317e7679",
   "metadata": {},
   "outputs": [],
   "source": [
    "# assign a variable\n",
    "age = 22"
   ]
  },
  {
   "cell_type": "code",
   "execution_count": 33,
   "id": "da010d3f",
   "metadata": {},
   "outputs": [
    {
     "data": {
      "text/plain": [
       "32"
      ]
     },
     "execution_count": 33,
     "metadata": {},
     "output_type": "execute_result"
    }
   ],
   "source": [
    "age + 10"
   ]
  },
  {
   "cell_type": "markdown",
   "id": "93e26e7d",
   "metadata": {},
   "source": [
    "## Built-in Functions"
   ]
  },
  {
   "cell_type": "code",
   "execution_count": 34,
   "id": "cbfbf621",
   "metadata": {},
   "outputs": [
    {
     "data": {
      "text/plain": [
       "36"
      ]
     },
     "execution_count": 34,
     "metadata": {},
     "output_type": "execute_result"
    }
   ],
   "source": [
    "# to use a function, you have to call (or invoke) it using parentheses\n",
    "len(\"How many characters do we have here?\")"
   ]
  },
  {
   "cell_type": "code",
   "execution_count": 35,
   "id": "90ffcddc",
   "metadata": {},
   "outputs": [
    {
     "data": {
      "text/plain": [
       "'3.14'"
      ]
     },
     "execution_count": 35,
     "metadata": {},
     "output_type": "execute_result"
    }
   ],
   "source": [
    "str(3.14)"
   ]
  },
  {
   "cell_type": "markdown",
   "id": "210ecc22",
   "metadata": {},
   "source": [
    "## Custom Functions: use for repetitive tasks"
   ]
  },
  {
   "cell_type": "code",
   "execution_count": 39,
   "id": "70d1d7be",
   "metadata": {},
   "outputs": [],
   "source": [
    "# Declare a function that accepts a temperature in Celsius and returns it in Fahrenheit\n",
    "\n",
    "def convert_to_fahrenheit(celsius_temp):\n",
    "    product = celsius_temp * 1.8\n",
    "    fahrenheit = product + 32 \n",
    "    return fahrenheit"
   ]
  },
  {
   "cell_type": "code",
   "execution_count": 40,
   "id": "6cc75d01",
   "metadata": {},
   "outputs": [
    {
     "data": {
      "text/plain": [
       "96.8"
      ]
     },
     "execution_count": 40,
     "metadata": {},
     "output_type": "execute_result"
    }
   ],
   "source": [
    "convert_to_fahrenheit(36)"
   ]
  },
  {
   "cell_type": "markdown",
   "id": "9fea5bec",
   "metadata": {},
   "source": [
    "## String Methods: A method is a function that operates on an object. To see all the methods, use the \"Tab\" key."
   ]
  },
  {
   "cell_type": "code",
   "execution_count": 47,
   "id": "8538d718",
   "metadata": {},
   "outputs": [],
   "source": [
    "profession = \"Data Analyst\""
   ]
  },
  {
   "cell_type": "code",
   "execution_count": 48,
   "id": "61051432",
   "metadata": {},
   "outputs": [
    {
     "data": {
      "text/plain": [
       "'DATA ANALYST'"
      ]
     },
     "execution_count": 48,
     "metadata": {},
     "output_type": "execute_result"
    }
   ],
   "source": [
    "profession.upper()"
   ]
  },
  {
   "cell_type": "code",
   "execution_count": 49,
   "id": "6c557e08",
   "metadata": {},
   "outputs": [
    {
     "data": {
      "text/plain": [
       "'data analyst'"
      ]
     },
     "execution_count": 49,
     "metadata": {},
     "output_type": "execute_result"
    }
   ],
   "source": [
    "profession.lower()"
   ]
  },
  {
   "cell_type": "code",
   "execution_count": 50,
   "id": "c112a288",
   "metadata": {},
   "outputs": [
    {
     "data": {
      "text/plain": [
       "'dATA aNALYST'"
      ]
     },
     "execution_count": 50,
     "metadata": {},
     "output_type": "execute_result"
    }
   ],
   "source": [
    "profession.swapcase()"
   ]
  },
  {
   "cell_type": "code",
   "execution_count": 54,
   "id": "7ae5ad7d",
   "metadata": {},
   "outputs": [
    {
     "data": {
      "text/plain": [
       "'Data Analyst'"
      ]
     },
     "execution_count": 54,
     "metadata": {},
     "output_type": "execute_result"
    }
   ],
   "source": [
    "# a string is an immutable object: incapable of changes, while mutable object is capable of changes\n",
    "# because when we call a method on a string, it does not change the original string\n",
    "profession"
   ]
  },
  {
   "cell_type": "code",
   "execution_count": 57,
   "id": "55eb9f2c",
   "metadata": {},
   "outputs": [
    {
     "data": {
      "text/plain": [
       "'Le Tien Minh Duc'"
      ]
     },
     "execution_count": 57,
     "metadata": {},
     "output_type": "execute_result"
    }
   ],
   "source": [
    "# capitalize the first letter of each word\n",
    "'once upon a time'.title()\n",
    "\n",
    "# title is very useful when working with people's names\n",
    "'le tien minh duc'.title()"
   ]
  },
  {
   "cell_type": "code",
   "execution_count": 56,
   "id": "6810040d",
   "metadata": {},
   "outputs": [
    {
     "data": {
      "text/plain": [
       "'Once upton a time'"
      ]
     },
     "execution_count": 56,
     "metadata": {},
     "output_type": "execute_result"
    }
   ],
   "source": [
    "# capitalize the first character of a string\n",
    "'once upton a time'.capitalize()"
   ]
  },
  {
   "cell_type": "code",
   "execution_count": 58,
   "id": "3633488a",
   "metadata": {},
   "outputs": [],
   "source": [
    "profession = ' Data Analyst '"
   ]
  },
  {
   "cell_type": "code",
   "execution_count": 62,
   "id": "d7c068ef",
   "metadata": {},
   "outputs": [
    {
     "data": {
      "text/plain": [
       "'Data Analyst '"
      ]
     },
     "execution_count": 62,
     "metadata": {},
     "output_type": "execute_result"
    }
   ],
   "source": [
    "# remove the space on the left side of a string\n",
    "profession.lstrip()"
   ]
  },
  {
   "cell_type": "code",
   "execution_count": 63,
   "id": "82f580a5",
   "metadata": {},
   "outputs": [
    {
     "data": {
      "text/plain": [
       "' Data Analyst'"
      ]
     },
     "execution_count": 63,
     "metadata": {},
     "output_type": "execute_result"
    }
   ],
   "source": [
    "#remove the space on the right side of a string\n",
    "profession.rstrip()"
   ]
  },
  {
   "cell_type": "code",
   "execution_count": 64,
   "id": "1bb5b775",
   "metadata": {},
   "outputs": [
    {
     "data": {
      "text/plain": [
       "'Data Analyst'"
      ]
     },
     "execution_count": 64,
     "metadata": {},
     "output_type": "execute_result"
    }
   ],
   "source": [
    "#remove space on either side\n",
    "profession.strip()"
   ]
  },
  {
   "cell_type": "code",
   "execution_count": 65,
   "id": "9ec8101c",
   "metadata": {},
   "outputs": [
    {
     "data": {
      "text/plain": [
       "' Dete Anelyst '"
      ]
     },
     "execution_count": 65,
     "metadata": {},
     "output_type": "execute_result"
    }
   ],
   "source": [
    "# replace \n",
    "profession.replace('a', 'e')"
   ]
  },
  {
   "cell_type": "code",
   "execution_count": 66,
   "id": "be239367",
   "metadata": {},
   "outputs": [
    {
     "data": {
      "text/plain": [
       "'Dete Anelyst'"
      ]
     },
     "execution_count": 66,
     "metadata": {},
     "output_type": "execute_result"
    }
   ],
   "source": [
    "profession.strip().replace('a', 'e')"
   ]
  },
  {
   "cell_type": "code",
   "execution_count": 67,
   "id": "42784582",
   "metadata": {},
   "outputs": [],
   "source": [
    "animal = 'rhinoceros'"
   ]
  },
  {
   "cell_type": "code",
   "execution_count": 70,
   "id": "77587c9d",
   "metadata": {},
   "outputs": [
    {
     "data": {
      "text/plain": [
       "False"
      ]
     },
     "execution_count": 70,
     "metadata": {},
     "output_type": "execute_result"
    }
   ],
   "source": [
    "# startswith is case sensitive\n",
    "animal.startswith('acb')"
   ]
  },
  {
   "cell_type": "code",
   "execution_count": 72,
   "id": "4b82303c",
   "metadata": {},
   "outputs": [
    {
     "data": {
      "text/plain": [
       "True"
      ]
     },
     "execution_count": 72,
     "metadata": {},
     "output_type": "execute_result"
    }
   ],
   "source": [
    "animal.endswith('s')"
   ]
  },
  {
   "cell_type": "code",
   "execution_count": 73,
   "id": "f6d94a53",
   "metadata": {},
   "outputs": [
    {
     "data": {
      "text/plain": [
       "True"
      ]
     },
     "execution_count": 73,
     "metadata": {},
     "output_type": "execute_result"
    }
   ],
   "source": [
    "\"ino\" in animal"
   ]
  },
  {
   "cell_type": "code",
   "execution_count": 74,
   "id": "33c43357",
   "metadata": {},
   "outputs": [
    {
     "data": {
      "text/plain": [
       "True"
      ]
     },
     "execution_count": 74,
     "metadata": {},
     "output_type": "execute_result"
    }
   ],
   "source": [
    "'r' in animal"
   ]
  },
  {
   "cell_type": "code",
   "execution_count": 75,
   "id": "106bb5f0",
   "metadata": {},
   "outputs": [
    {
     "data": {
      "text/plain": [
       "False"
      ]
     },
     "execution_count": 75,
     "metadata": {},
     "output_type": "execute_result"
    }
   ],
   "source": [
    "'z' in animal"
   ]
  },
  {
   "cell_type": "code",
   "execution_count": 76,
   "id": "2ab398c8",
   "metadata": {},
   "outputs": [
    {
     "data": {
      "text/plain": [
       "False"
      ]
     },
     "execution_count": 76,
     "metadata": {},
     "output_type": "execute_result"
    }
   ],
   "source": [
    "'ino' not in animal"
   ]
  },
  {
   "cell_type": "code",
   "execution_count": 78,
   "id": "99d61fdd",
   "metadata": {},
   "outputs": [
    {
     "data": {
      "text/plain": [
       "True"
      ]
     },
     "execution_count": 78,
     "metadata": {},
     "output_type": "execute_result"
    }
   ],
   "source": [
    "\"z\" not in animal"
   ]
  },
  {
   "cell_type": "markdown",
   "id": "e0fd9a0c",
   "metadata": {},
   "source": [
    "## Lists: Mutable data structures that holds an ordered collection of elements. You can add, remove, change elements in a list"
   ]
  },
  {
   "cell_type": "code",
   "execution_count": 79,
   "id": "62ecee4e",
   "metadata": {},
   "outputs": [
    {
     "data": {
      "text/plain": [
       "[1, 2, 3, 4]"
      ]
     },
     "execution_count": 79,
     "metadata": {},
     "output_type": "execute_result"
    }
   ],
   "source": [
    "[1, 2, 3, 4]"
   ]
  },
  {
   "cell_type": "code",
   "execution_count": 80,
   "id": "7dfffcd0",
   "metadata": {},
   "outputs": [
    {
     "data": {
      "text/plain": [
       "[True, False, False, True]"
      ]
     },
     "execution_count": 80,
     "metadata": {},
     "output_type": "execute_result"
    }
   ],
   "source": [
    "[True, False, False, True]"
   ]
  },
  {
   "cell_type": "code",
   "execution_count": 81,
   "id": "60fd5e6a",
   "metadata": {},
   "outputs": [],
   "source": [
    "party_attendees = ['Michael', 'Freddy', 'Jason']"
   ]
  },
  {
   "cell_type": "code",
   "execution_count": 82,
   "id": "fddb3cd2",
   "metadata": {},
   "outputs": [
    {
     "data": {
      "text/plain": [
       "['Michael', 'Freddy', 'Jason']"
      ]
     },
     "execution_count": 82,
     "metadata": {},
     "output_type": "execute_result"
    }
   ],
   "source": [
    "party_attendees"
   ]
  },
  {
   "cell_type": "code",
   "execution_count": 83,
   "id": "e5da3269",
   "metadata": {},
   "outputs": [
    {
     "data": {
      "text/plain": [
       "3"
      ]
     },
     "execution_count": 83,
     "metadata": {},
     "output_type": "execute_result"
    }
   ],
   "source": [
    "len(party_attendees)"
   ]
  },
  {
   "cell_type": "code",
   "execution_count": 84,
   "id": "cae3ce6e",
   "metadata": {},
   "outputs": [
    {
     "data": {
      "text/plain": [
       "list"
      ]
     },
     "execution_count": 84,
     "metadata": {},
     "output_type": "execute_result"
    }
   ],
   "source": [
    "type(party_attendees)"
   ]
  },
  {
   "cell_type": "code",
   "execution_count": 85,
   "id": "a1357332",
   "metadata": {},
   "outputs": [],
   "source": [
    "presidents = ['Washington', 'Jefferson']"
   ]
  },
  {
   "cell_type": "code",
   "execution_count": 86,
   "id": "18952ca0",
   "metadata": {},
   "outputs": [],
   "source": [
    "# add elements to a list\n",
    "presidents.append('Madison')"
   ]
  },
  {
   "cell_type": "code",
   "execution_count": 87,
   "id": "3fb49c65",
   "metadata": {},
   "outputs": [
    {
     "data": {
      "text/plain": [
       "['Washington', 'Jefferson', 'Madison']"
      ]
     },
     "execution_count": 87,
     "metadata": {},
     "output_type": "execute_result"
    }
   ],
   "source": [
    "presidents"
   ]
  },
  {
   "cell_type": "code",
   "execution_count": 94,
   "id": "173978a1",
   "metadata": {},
   "outputs": [],
   "source": [
    "popcorn = ['Salted', 'Unsalted', 'Caramel']"
   ]
  },
  {
   "cell_type": "code",
   "execution_count": 95,
   "id": "3372a8c4",
   "metadata": {},
   "outputs": [
    {
     "data": {
      "text/plain": [
       "'Caramel'"
      ]
     },
     "execution_count": 95,
     "metadata": {},
     "output_type": "execute_result"
    }
   ],
   "source": [
    "# \"Pop\" method removes the last item in a list\n",
    "popcorn.pop()"
   ]
  },
  {
   "cell_type": "code",
   "execution_count": 96,
   "id": "ddb4ad51",
   "metadata": {},
   "outputs": [
    {
     "data": {
      "text/plain": [
       "['Salted', 'Unsalted']"
      ]
     },
     "execution_count": 96,
     "metadata": {},
     "output_type": "execute_result"
    }
   ],
   "source": [
    "popcorn"
   ]
  },
  {
   "cell_type": "code",
   "execution_count": 97,
   "id": "2b7d1d3f",
   "metadata": {},
   "outputs": [],
   "source": [
    "popcorn.remove('Salted')"
   ]
  },
  {
   "cell_type": "code",
   "execution_count": 98,
   "id": "6848147b",
   "metadata": {},
   "outputs": [
    {
     "data": {
      "text/plain": [
       "['Unsalted']"
      ]
     },
     "execution_count": 98,
     "metadata": {},
     "output_type": "execute_result"
    }
   ],
   "source": [
    "popcorn"
   ]
  },
  {
   "cell_type": "code",
   "execution_count": 99,
   "id": "934c0ce6",
   "metadata": {},
   "outputs": [],
   "source": [
    "planet = ['Mercury', 'Venus', 'Earth', 'Mars']"
   ]
  },
  {
   "cell_type": "code",
   "execution_count": 100,
   "id": "8ee63bbe",
   "metadata": {},
   "outputs": [
    {
     "data": {
      "text/plain": [
       "True"
      ]
     },
     "execution_count": 100,
     "metadata": {},
     "output_type": "execute_result"
    }
   ],
   "source": [
    "\"Earth\" in planet"
   ]
  },
  {
   "cell_type": "markdown",
   "id": "12e73a38",
   "metadata": {},
   "source": [
    "## Index Positions and Slicing"
   ]
  },
  {
   "cell_type": "code",
   "execution_count": 101,
   "id": "a32a3e16",
   "metadata": {},
   "outputs": [],
   "source": [
    "spiderman = 'Spiderman'"
   ]
  },
  {
   "cell_type": "code",
   "execution_count": 107,
   "id": "cf4c94be",
   "metadata": {},
   "outputs": [],
   "source": [
    "# In python, the count starts at 0, also called an index\n",
    "# 0 1 2 \n",
    "# S p i"
   ]
  },
  {
   "cell_type": "code",
   "execution_count": 108,
   "id": "7113e554",
   "metadata": {},
   "outputs": [
    {
     "data": {
      "text/plain": [
       "'S'"
      ]
     },
     "execution_count": 108,
     "metadata": {},
     "output_type": "execute_result"
    }
   ],
   "source": [
    "spiderman[0]"
   ]
  },
  {
   "cell_type": "code",
   "execution_count": 113,
   "id": "b49e1cd5",
   "metadata": {},
   "outputs": [
    {
     "data": {
      "text/plain": [
       "'n'"
      ]
     },
     "execution_count": 113,
     "metadata": {},
     "output_type": "execute_result"
    }
   ],
   "source": [
    "# return the last character from a string\n",
    "spiderman[-1]\n",
    "spiderman[8]\n",
    "# these two return the same result"
   ]
  },
  {
   "cell_type": "code",
   "execution_count": 110,
   "id": "33ec1208",
   "metadata": {},
   "outputs": [
    {
     "data": {
      "text/plain": [
       "'a'"
      ]
     },
     "execution_count": 110,
     "metadata": {},
     "output_type": "execute_result"
    }
   ],
   "source": [
    "spiderman[-2]"
   ]
  },
  {
   "cell_type": "code",
   "execution_count": 114,
   "id": "31124953",
   "metadata": {},
   "outputs": [],
   "source": [
    "superheroes = ['Batman', 'Superman', 'Wolverine', 'Ironman', 'Arnold Schwarzenegger']"
   ]
  },
  {
   "cell_type": "code",
   "execution_count": 115,
   "id": "37e1c669",
   "metadata": {},
   "outputs": [
    {
     "data": {
      "text/plain": [
       "5"
      ]
     },
     "execution_count": 115,
     "metadata": {},
     "output_type": "execute_result"
    }
   ],
   "source": [
    "len(superheroes)"
   ]
  },
  {
   "cell_type": "code",
   "execution_count": 120,
   "id": "bf7d76b5",
   "metadata": {},
   "outputs": [
    {
     "data": {
      "text/plain": [
       "'Ironman'"
      ]
     },
     "execution_count": 120,
     "metadata": {},
     "output_type": "execute_result"
    }
   ],
   "source": [
    "superheroes[0]\n",
    "superheroes[3]\n",
    "superheroes[4]\n",
    "superheroes[-2]"
   ]
  },
  {
   "cell_type": "code",
   "execution_count": 124,
   "id": "f6a6df4d",
   "metadata": {},
   "outputs": [
    {
     "data": {
      "text/plain": [
       "['Batman', 'Superman', 'Wolverine']"
      ]
     },
     "execution_count": 124,
     "metadata": {},
     "output_type": "execute_result"
    }
   ],
   "source": [
    "# to pull out more than one element in a list, use a colon (:)\n",
    "superheroes[0:3]"
   ]
  },
  {
   "cell_type": "code",
   "execution_count": 125,
   "id": "6be56214",
   "metadata": {},
   "outputs": [
    {
     "data": {
      "text/plain": [
       "['Batman', 'Superman', 'Wolverine', 'Ironman']"
      ]
     },
     "execution_count": 125,
     "metadata": {},
     "output_type": "execute_result"
    }
   ],
   "source": [
    "superheroes[:-1]"
   ]
  },
  {
   "cell_type": "code",
   "execution_count": 126,
   "id": "09998948",
   "metadata": {},
   "outputs": [
    {
     "data": {
      "text/plain": [
       "['Batman', 'Superman', 'Wolverine', 'Ironman', 'Arnold Schwarzenegger']"
      ]
     },
     "execution_count": 126,
     "metadata": {},
     "output_type": "execute_result"
    }
   ],
   "source": [
    "superheroes[0:]"
   ]
  },
  {
   "cell_type": "code",
   "execution_count": 127,
   "id": "ec481b1d",
   "metadata": {},
   "outputs": [
    {
     "data": {
      "text/plain": [
       "'Spi'"
      ]
     },
     "execution_count": 127,
     "metadata": {},
     "output_type": "execute_result"
    }
   ],
   "source": [
    "spiderman[0:3]"
   ]
  },
  {
   "cell_type": "code",
   "execution_count": 128,
   "id": "e7799b78",
   "metadata": {},
   "outputs": [
    {
     "data": {
      "text/plain": [
       "['Batman', 'Superman', 'Wolverine']"
      ]
     },
     "execution_count": 128,
     "metadata": {},
     "output_type": "execute_result"
    }
   ],
   "source": [
    "superheroes[:-2]"
   ]
  },
  {
   "cell_type": "code",
   "execution_count": 129,
   "id": "efcfef15",
   "metadata": {},
   "outputs": [
    {
     "data": {
      "text/plain": [
       "'Spide'"
      ]
     },
     "execution_count": 129,
     "metadata": {},
     "output_type": "execute_result"
    }
   ],
   "source": [
    "spiderman[:5]"
   ]
  },
  {
   "cell_type": "code",
   "execution_count": 130,
   "id": "e2317286",
   "metadata": {},
   "outputs": [
    {
     "data": {
      "text/plain": [
       "['Wolverine', 'Ironman', 'Arnold Schwarzenegger']"
      ]
     },
     "execution_count": 130,
     "metadata": {},
     "output_type": "execute_result"
    }
   ],
   "source": [
    "superheroes[2:]"
   ]
  },
  {
   "cell_type": "markdown",
   "id": "15ab72df",
   "metadata": {},
   "source": [
    "## Dictionaries: An ordered collection of key - value pairs"
   ]
  },
  {
   "cell_type": "code",
   "execution_count": 131,
   "id": "091b05e8",
   "metadata": {},
   "outputs": [],
   "source": [
    "menu = {\n",
    "    'Filet Mignon' : 29.99,\n",
    "    'Big Mac' : 3.99, \n",
    "    'Pizza' : 0.99,\n",
    "    'Salmon' : 29.99\n",
    "}"
   ]
  },
  {
   "cell_type": "code",
   "execution_count": 132,
   "id": "3b65b926",
   "metadata": {},
   "outputs": [
    {
     "data": {
      "text/plain": [
       "{'Filet Mignon': 29.99, 'Big Mac': 3.99, 'Pizza': 0.99, 'Salmon': 29.99}"
      ]
     },
     "execution_count": 132,
     "metadata": {},
     "output_type": "execute_result"
    }
   ],
   "source": [
    "menu"
   ]
  },
  {
   "cell_type": "code",
   "execution_count": 134,
   "id": "269e30d2",
   "metadata": {},
   "outputs": [
    {
     "data": {
      "text/plain": [
       "4"
      ]
     },
     "execution_count": 134,
     "metadata": {},
     "output_type": "execute_result"
    }
   ],
   "source": [
    "# the len of a dictionary = the number of pairs\n",
    "len(menu)"
   ]
  },
  {
   "cell_type": "code",
   "execution_count": 135,
   "id": "f321db5d",
   "metadata": {},
   "outputs": [
    {
     "data": {
      "text/plain": [
       "3.99"
      ]
     },
     "execution_count": 135,
     "metadata": {},
     "output_type": "execute_result"
    }
   ],
   "source": [
    "# find the value of a key\n",
    "menu['Big Mac']"
   ]
  },
  {
   "cell_type": "code",
   "execution_count": 136,
   "id": "96e3bb5f",
   "metadata": {},
   "outputs": [
    {
     "ename": "KeyError",
     "evalue": "'tuna'",
     "output_type": "error",
     "traceback": [
      "\u001b[1;31m---------------------------------------------------------------------------\u001b[0m",
      "\u001b[1;31mKeyError\u001b[0m                                  Traceback (most recent call last)",
      "\u001b[1;32m~\\AppData\\Local\\Temp/ipykernel_14484/621827126.py\u001b[0m in \u001b[0;36m<module>\u001b[1;34m\u001b[0m\n\u001b[1;32m----> 1\u001b[1;33m \u001b[0mmenu\u001b[0m\u001b[1;33m[\u001b[0m\u001b[1;34m'tuna'\u001b[0m\u001b[1;33m]\u001b[0m\u001b[1;33m\u001b[0m\u001b[1;33m\u001b[0m\u001b[0m\n\u001b[0m",
      "\u001b[1;31mKeyError\u001b[0m: 'tuna'"
     ]
    }
   ],
   "source": [
    "menu['tuna']"
   ]
  },
  {
   "cell_type": "code",
   "execution_count": 137,
   "id": "1849b768",
   "metadata": {},
   "outputs": [],
   "source": [
    "# add a pair to a dictionary or override the existing pair\n",
    "menu['Burrito'] = 13.99"
   ]
  },
  {
   "cell_type": "code",
   "execution_count": 138,
   "id": "58a4055d",
   "metadata": {},
   "outputs": [
    {
     "data": {
      "text/plain": [
       "{'Filet Mignon': 29.99,\n",
       " 'Big Mac': 3.99,\n",
       " 'Pizza': 0.99,\n",
       " 'Salmon': 29.99,\n",
       " 'Burrito': 13.99}"
      ]
     },
     "execution_count": 138,
     "metadata": {},
     "output_type": "execute_result"
    }
   ],
   "source": [
    "menu"
   ]
  },
  {
   "cell_type": "code",
   "execution_count": 139,
   "id": "0f696a32",
   "metadata": {},
   "outputs": [],
   "source": [
    "menu['Big Mac'] = 5.99"
   ]
  },
  {
   "cell_type": "code",
   "execution_count": 140,
   "id": "2733f0ff",
   "metadata": {},
   "outputs": [
    {
     "data": {
      "text/plain": [
       "{'Filet Mignon': 29.99,\n",
       " 'Big Mac': 5.99,\n",
       " 'Pizza': 0.99,\n",
       " 'Salmon': 29.99,\n",
       " 'Burrito': 13.99}"
      ]
     },
     "execution_count": 140,
     "metadata": {},
     "output_type": "execute_result"
    }
   ],
   "source": [
    "menu"
   ]
  },
  {
   "cell_type": "code",
   "execution_count": 142,
   "id": "d34fc4e6",
   "metadata": {},
   "outputs": [
    {
     "data": {
      "text/plain": [
       "29.99"
      ]
     },
     "execution_count": 142,
     "metadata": {},
     "output_type": "execute_result"
    }
   ],
   "source": [
    "# remove a pair from a dictionary\n",
    "menu.pop('Filet Mignon')"
   ]
  },
  {
   "cell_type": "code",
   "execution_count": 143,
   "id": "7681b0e3",
   "metadata": {},
   "outputs": [
    {
     "data": {
      "text/plain": [
       "{'Big Mac': 5.99, 'Pizza': 0.99, 'Salmon': 29.99, 'Burrito': 13.99}"
      ]
     },
     "execution_count": 143,
     "metadata": {},
     "output_type": "execute_result"
    }
   ],
   "source": [
    "menu"
   ]
  },
  {
   "cell_type": "code",
   "execution_count": 144,
   "id": "8626c2c3",
   "metadata": {},
   "outputs": [
    {
     "data": {
      "text/plain": [
       "True"
      ]
     },
     "execution_count": 144,
     "metadata": {},
     "output_type": "execute_result"
    }
   ],
   "source": [
    "'Pizza' in menu"
   ]
  },
  {
   "cell_type": "code",
   "execution_count": 145,
   "id": "f9fba32b",
   "metadata": {},
   "outputs": [
    {
     "data": {
      "text/plain": [
       "False"
      ]
     },
     "execution_count": 145,
     "metadata": {},
     "output_type": "execute_result"
    }
   ],
   "source": [
    "'Hot Pockets' in menu"
   ]
  },
  {
   "cell_type": "code",
   "execution_count": 146,
   "id": "5e5db86f",
   "metadata": {},
   "outputs": [
    {
     "data": {
      "text/plain": [
       "False"
      ]
     },
     "execution_count": 146,
     "metadata": {},
     "output_type": "execute_result"
    }
   ],
   "source": [
    "# to check the value in a dictionary\n",
    "# 5.99 in menu"
   ]
  },
  {
   "cell_type": "code",
   "execution_count": 147,
   "id": "9c6558ac",
   "metadata": {},
   "outputs": [
    {
     "data": {
      "text/plain": [
       "dict_values([5.99, 0.99, 29.99, 13.99])"
      ]
     },
     "execution_count": 147,
     "metadata": {},
     "output_type": "execute_result"
    }
   ],
   "source": [
    "menu.values()"
   ]
  },
  {
   "cell_type": "code",
   "execution_count": 148,
   "id": "ca2109f5",
   "metadata": {},
   "outputs": [
    {
     "data": {
      "text/plain": [
       "True"
      ]
     },
     "execution_count": 148,
     "metadata": {},
     "output_type": "execute_result"
    }
   ],
   "source": [
    "5.99 in menu.values()"
   ]
  },
  {
   "cell_type": "code",
   "execution_count": 149,
   "id": "8df073e8",
   "metadata": {},
   "outputs": [
    {
     "data": {
      "text/plain": [
       "False"
      ]
     },
     "execution_count": 149,
     "metadata": {},
     "output_type": "execute_result"
    }
   ],
   "source": [
    "99 in menu.values()"
   ]
  }
 ],
 "metadata": {
  "kernelspec": {
   "display_name": "Python 3 (ipykernel)",
   "language": "python",
   "name": "python3"
  },
  "language_info": {
   "codemirror_mode": {
    "name": "ipython",
    "version": 3
   },
   "file_extension": ".py",
   "mimetype": "text/x-python",
   "name": "python",
   "nbconvert_exporter": "python",
   "pygments_lexer": "ipython3",
   "version": "3.9.7"
  }
 },
 "nbformat": 4,
 "nbformat_minor": 5
}
