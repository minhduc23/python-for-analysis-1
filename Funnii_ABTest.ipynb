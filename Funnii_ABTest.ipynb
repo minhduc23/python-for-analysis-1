{
 "cells": [
  {
   "cell_type": "code",
   "execution_count": 1,
   "metadata": {},
   "outputs": [],
   "source": [
    "import pandas as pd\n",
    "import numpy as np\n",
    "from scipy import stats\n",
    "import statsmodels.stats.api as sms\n",
    "from datetime import datetime, timedelta\n",
    "import random\n",
    "import matplotlib.pyplot as plt\n",
    "%matplotlib inline"
   ]
  },
  {
   "cell_type": "code",
   "execution_count": 2,
   "metadata": {},
   "outputs": [],
   "source": [
    "def mean_confidence_interval(data, confidence=0.95):\n",
    "    # Calculate confidence interval for sample mean\n",
    "    a = np.array(data)\n",
    "    n = len(a)\n",
    "    m, se = np.mean(a), stats.sem(a)\n",
    "    h = se * stats.t.ppf((1 + confidence) / 2., n-1)\n",
    "    return round(m,3), round(m-h,3), round(m+h,3)"
   ]
  },
  {
   "cell_type": "code",
   "execution_count": 3,
   "metadata": {},
   "outputs": [],
   "source": [
    "def ttestab(a,b):\n",
    "    # Summarize the groups  \n",
    "    confident_a = mean_confidence_interval(a, confidence=0.95)\n",
    "    confident_b = mean_confidence_interval(b, confidence=0.95)\n",
    "    result = [{'Group':'A','Sample size':len(a),'Mean':confident_a[0],\n",
    "               'Stdev': round(a.std(),3),'95% CI of Mean':confident_a[1:]},\n",
    "              {'Group':'B','Sample size':len(b),'Mean':confident_b[0],\n",
    "               'Stdev': round(b.std(),3),'95% CI of Mean':confident_b[1:]}]\n",
    "    print(pd.DataFrame(result))\n",
    "    print(\"\\n\")\n",
    "    \n",
    "    # Running 2 sampled t test comparing means\n",
    "    cm = sms.CompareMeans(sms.DescrStatsW(b), sms.DescrStatsW(a))\n",
    "    dm = cm.tconfint_diff(alpha=0.05,usevar='unequal')\n",
    "    print(cm.summary())\n",
    "    print (\"Difference between 2 means: \", round(b.mean()-a.mean(),3), \"+/-\", round(cm.std_meandiff_separatevar,3))\n",
    "    print(\"95% CI of difference between means: \", dm)\n",
    "    print(\"95% CI of difference between means: [\", round(100*dm[0]/confident_a[0], 3), \"%, \", round(100*dm[1]/confident_a[0], 3), \"% ]\")\n",
    "    \n",
    "    return cm"
   ]
  },
  {
   "cell_type": "code",
   "execution_count": 4,
   "metadata": {},
   "outputs": [],
   "source": [
    "def plotSamplingMean(numofsample,samplesize,population,label):\n",
    "    # collect mean of each sample\n",
    "    eachMeanSample = []\n",
    "    # for each sampling\n",
    "    for j in range(0,numofsample):\n",
    "        # sampling 'samplesize' sample from population\n",
    "        rc = random.choices(list(population), k=samplesize)\n",
    "        # collect mean of each sample\n",
    "        eachMeanSample.append(sum(rc)/len(rc))\n",
    "    f=plt.hist(eachMeanSample,bins=30,alpha=0.5,label=label)\n",
    "    plt.legend(loc='best')\n",
    "    plt.xlabel('Mean of metric')"
   ]
  },
  {
   "cell_type": "code",
   "execution_count": 5,
   "metadata": {},
   "outputs": [],
   "source": [
    "def testing_by_dayinterval_sum_metric(df_test,metric,day_window=1,exp_id='1',group_id='1'):\n",
    "    df_days = df_test[df_test['day0_date']<=df_test['act_date'].max()-timedelta(days=day_window-1)]\n",
    "    print(\"Max day0: \", df_days['day0_date'].max())\n",
    "    print(\"Min day0: \", df_days['day0_date'].min())\n",
    "    df_days = df_days[df_days['day_diff']<day_window].groupby(['resettable_device_id_or_app_instance_id','experiment_group'])[metric].sum().reset_index()\n",
    "    a = df_days[df_days['experiment_group']=='firebase_exp_{}_group{}'.format(exp_id, '0')][metric]\n",
    "    b = df_days[df_days['experiment_group']=='firebase_exp_{}_group{}'.format(exp_id, group_id)][metric]\n",
    "    ttestab(a,b)\n",
    "    return df_days,a,b"
   ]
  },
  {
   "cell_type": "code",
   "execution_count": 6,
   "metadata": {},
   "outputs": [],
   "source": [
    "def testing_by_dayinterval_max_metric(df_test,metric,day_window=1,exp_id='1',group_id='1'):\n",
    "    df_days = df_test[df_test['day0_date']<=df_test['act_date'].max()-timedelta(days=day_window-1)]\n",
    "    print(\"Max day0: \", df_days['day0_date'].max())\n",
    "    print(\"Min day0: \", df_days['day0_date'].min())\n",
    "    df_days = df_days[df_days['day_diff']<day_window].groupby(['resettable_device_id_or_app_instance_id','experiment_group'])[metric].max().reset_index()\n",
    "    a = df_days[df_days['experiment_group']=='firebase_exp_{}_group{}'.format(exp_id, '0')][metric]\n",
    "    b = df_days[df_days['experiment_group']=='firebase_exp_{}_group{}'.format(exp_id, group_id)][metric]\n",
    "    ttestab(a,b)\n",
    "    return df_days,a,b"
   ]
  },
  {
   "cell_type": "code",
   "execution_count": 7,
   "metadata": {},
   "outputs": [],
   "source": [
    "def compare_mean_metric(df_test, metrics, confidence=0.95, day_window=1,exp_id='1',group_id='1'):\n",
    "    print(\"Compare 95% CI of Mean:\")\n",
    "    for m in metrics:\n",
    "        df_days = df_test[df_test['day0_date']<=df_test['act_date'].max()-timedelta(days=day_window-1)]\n",
    "        df_days = df_days[df_days['day_diff']<day_window].groupby(['resettable_device_id_or_app_instance_id','experiment_group'])[m].sum().reset_index()\n",
    "        a = df_days[df_days['experiment_group']=='firebase_exp_{}_group{}'.format(exp_id, '0')][m]\n",
    "        b = df_days[df_days['experiment_group']=='firebase_exp_{}_group{}'.format(exp_id, group_id)][m]\n",
    "        \n",
    "        confident_a = mean_confidence_interval(a, confidence)\n",
    "        confident_b = mean_confidence_interval(b, confidence)\n",
    "        \n",
    "        diff = confident_b[1:]/confident_a[0] - 1\n",
    "        \n",
    "        print(m, \": [\", round(100*diff[0],3), \"%, \", round(100*diff[1],3), \"%]\")"
   ]
  },
  {
   "cell_type": "code",
   "execution_count": 26,
   "metadata": {},
   "outputs": [],
   "source": [
    "#df = pd.read_excel(\"Sui_20210110- 20210120.xlsx\", sheet_name='Sui_20210110- 20210120')\n",
    "df = pd.read_csv('ACi-3.csv')\n",
    "df.drop(columns=['platform','device_model'],inplace=True)\n",
    "#df['country'].value_counts()\n",
    "# Clean up data\n",
    "df_test = df[~df['experiment_group'].isna()]\n",
    "# Exclude 1 data point of Japan\n",
    "df_test = df_test[df_test['country']=='United States']\n",
    "df_test=df_test[df_test['day_diff']>=0]\n",
    "df_test.to_csv(\"ACi-3-Cleaned.csv\",index=False)"
   ]
  },
  {
   "cell_type": "code",
   "execution_count": 9,
   "metadata": {},
   "outputs": [],
   "source": [
    "# Metric for test: rv_imp * 1.3 + is_imp"
   ]
  },
  {
   "cell_type": "code",
   "execution_count": 10,
   "metadata": {
    "scrolled": true
   },
   "outputs": [
    {
     "data": {
      "text/plain": [
       "United States          4870\n",
       "Japan                  1341\n",
       "United Kingdom          642\n",
       "Taiwan                  403\n",
       "Russia                  255\n",
       "                       ... \n",
       "Morocco                   1\n",
       "Madagascar                1\n",
       "Bangladesh                1\n",
       "Congo - Brazzaville       1\n",
       "Kosovo                    1\n",
       "Name: country, Length: 89, dtype: int64"
      ]
     },
     "execution_count": 10,
     "metadata": {},
     "output_type": "execute_result"
    }
   ],
   "source": [
    "df_test['country'].value_counts()"
   ]
  },
  {
   "cell_type": "code",
   "execution_count": 27,
   "metadata": {},
   "outputs": [],
   "source": [
    "df_test = pd.read_csv(\"ACi-3-Cleaned.csv\")\n",
    "df_test['act_date'] = pd.to_datetime(df_test['act_date'])\n",
    "df_test['day0_date'] = pd.to_datetime(df_test['day0_date'])"
   ]
  },
  {
   "cell_type": "code",
   "execution_count": 28,
   "metadata": {},
   "outputs": [
    {
     "data": {
      "text/plain": [
       "day0_date\n",
       "2021-01-15      14\n",
       "2021-01-16      27\n",
       "2021-01-17      28\n",
       "2021-01-18      70\n",
       "2021-01-19      42\n",
       "2021-01-20     612\n",
       "2021-01-21     885\n",
       "2021-01-22     932\n",
       "2021-01-23    1035\n",
       "2021-01-24    1071\n",
       "2021-01-25     790\n",
       "2021-01-26     756\n",
       "2021-01-27     991\n",
       "2021-01-28     981\n",
       "2021-01-29     172\n",
       "2021-01-30      15\n",
       "2021-01-31       1\n",
       "Name: resettable_device_id_or_app_instance_id, dtype: int64"
      ]
     },
     "execution_count": 28,
     "metadata": {},
     "output_type": "execute_result"
    }
   ],
   "source": [
    "# Count unique users in each group\n",
    "#df_test.groupby('experiment_group')['resettable_device_id_or_app_instance_id'].nunique()\n",
    "df_test.groupby('day0_date')['resettable_device_id_or_app_instance_id'].nunique()"
   ]
  },
  {
   "cell_type": "code",
   "execution_count": 33,
   "metadata": {},
   "outputs": [],
   "source": [
    "# Calculating metric\n",
    "df_test['combined_metric'] = df_test['rv_imp_sum']*1.3 + df_test['is_imp_sum']\n",
    "#df_test['combined_metric'] = df_test['rv_Revive_Revive'] + df_test['rv_LiveRequest_LiveInRequestHome']\n",
    "#df_test['combined_metric'] = df_test['rv_Game_X2Dame']\n",
    "#df_test['combined_metric'] = df_test['rv_Game_X2Health']\n",
    "#df_test['combined_metric'] = df_test['max_stage']\n",
    "#df_test['combined_metric'] = df_test['rv_Revive_Revive'] + df_test['rv_LiveRequest_LiveInRequestHome']\n",
    "#df_test['combined_metric'] = df_test['buy_skin_7'] + df_test['buy_skin_8'] + df_test['buy_skin_9'] + df_test['buy_skin_10'] + df_test['buy_skin_11'] + df_test['buy_skin_12'] + df_test['buy_skin_13'] + df_test['buy_skin_14'] + df_test['buy_skin_15'] + df_test['buy_skin_16']+ df_test['buy_skin_17'] + df_test['buy_skin_18'] + df_test['buy_skin_19']+ df_test['buy_skin_22'] + df_test['buy_skin_23'] + df_test['buy_skin_24']+ df_test['buy_skin_25']"
   ]
  },
  {
   "cell_type": "code",
   "execution_count": 30,
   "metadata": {
    "scrolled": true
   },
   "outputs": [
    {
     "data": {
      "text/plain": [
       "Index(['resettable_device_id_or_app_instance_id', 'day0_date', 'country',\n",
       "       'os_version', 'os_version_group', 'app_version', 'experiment_group',\n",
       "       'media_source', 'user_type', 'user_count', 'act_date', 'day_diff',\n",
       "       'dau', 'time_in_game_sum', 'rv_imp_sum', 'rv_click_sum', 'is_imp_sum',\n",
       "       'is_click_sum', 'battle_end_sum', 'battle_play_sum',\n",
       "       'rv_imp_LostScreen', 'rv_imp_WinScreen', 'rv_imp_daily_reward',\n",
       "       'rv_imp_main_screen', 'rv_imp_new_reward_panel', 'rv_imp_shop',\n",
       "       'rv_imp_skin_screen', 'rv_request_imp_LostScreen',\n",
       "       'rv_request_imp_WinScreen', 'rv_request_imp_daily_reward',\n",
       "       'rv_request_imp_main_screen', 'rv_request_imp_new_reward_panel',\n",
       "       'rv_request_imp_shop', 'rv_request_imp_skin_screen', 'play_node_1_1',\n",
       "       'play_node_1_2', 'play_node_1_3', 'play_node_2_1', 'play_node_2_2',\n",
       "       'play_node_2_3', 'play_node_3_1', 'play_node_3_2', 'play_node_3_3',\n",
       "       'play_node_4_1', 'play_node_5_1', 'end_node_1_1', 'end_node_1_2',\n",
       "       'end_node_1_3', 'end_node_2_1', 'end_node_2_2', 'end_node_2_3',\n",
       "       'end_node_3_1', 'end_node_3_2', 'end_node_3_3', 'end_node_4_1',\n",
       "       'end_node_5_1', 'is_imp_ironsrc_sum', 'rv_imp_ironsrc_sum',\n",
       "       'iap_value_sum', 'ad_value_sum', 'user_value_sum', 'max_stage',\n",
       "       'play_interstitial', 'end_interstitial', 'combined_metric'],\n",
       "      dtype='object')"
      ]
     },
     "execution_count": 30,
     "metadata": {},
     "output_type": "execute_result"
    }
   ],
   "source": [
    "df_test.columns\n",
    "#df_test.columns[50:100]\n",
    "#metric = ['buy_skin_22', 'buy_skin_23', 'buy_skin_24', 'buy_skin_25', 'buy_skin_7', 'buy_skin_8', 'buy_skin_9', 'buy_skin_10', 'buy_skin_11', 'buy_skin_12', 'buy_skin_13', 'buy_skin_14', 'buy_skin_15', 'buy_skin_16', 'buy_skin_17', 'buy_skin_18', 'buy_skin_19']\n",
    "#df_group1 = df_test[df_test['experiment_group']=='firebase_exp_18_group1']\n",
    "\n",
    "#for m in metric:\n",
    "#    print('{}: {}\\n'.format(m, df_group1[m].sum()))"
   ]
  },
  {
   "cell_type": "code",
   "execution_count": 31,
   "metadata": {},
   "outputs": [],
   "source": [
    "#df_group1['resettable_device_id_or_app_instance_id'].nunique()"
   ]
  },
  {
   "cell_type": "markdown",
   "metadata": {},
   "source": [
    "### Run test on whole data"
   ]
  },
  {
   "cell_type": "code",
   "execution_count": 41,
   "metadata": {},
   "outputs": [
    {
     "name": "stdout",
     "output_type": "stream",
     "text": [
      "Max day0:  2021-01-29 00:00:00\n",
      "Min day0:  2021-01-15 00:00:00\n",
      "  Group  Sample size    Mean   Stdev    95% CI of Mean\n",
      "0     A         4522  10.026  12.945   (9.649, 10.404)\n",
      "1     B         3879  11.463  13.110  (11.051, 11.876)\n",
      "\n",
      "\n",
      "                          Test for equality of means                          \n",
      "==============================================================================\n",
      "                 coef    std err          t      P>|t|      [0.025      0.975]\n",
      "------------------------------------------------------------------------------\n",
      "subset #1      1.4370      0.285      5.043      0.000       0.878       1.996\n",
      "==============================================================================\n",
      "Difference between 2 means:  1.437 +/- 0.285\n",
      "95% CI of difference between means:  (0.8779052479988143, 1.996189296400946)\n",
      "95% CI of difference between means: [ 8.756 %,  19.91 % ]\n"
     ]
    }
   ],
   "source": [
    "df_days,a,b = testing_by_dayinterval_sum_metric(df_test,'combined_metric',day_window=7,exp_id='3',group_id='1')"
   ]
  },
  {
   "cell_type": "code",
   "execution_count": 37,
   "metadata": {},
   "outputs": [
    {
     "data": {
      "image/png": "[encoded data removed]",
      "text/plain": [
       "<Figure size 576x360 with 1 Axes>"
      ]
     },
     "metadata": {
      "needs_background": "light"
     },
     "output_type": "display_data"
    }
   ],
   "source": [
    "# Visualize the two population means\n",
    "plt.figure(figsize=(8,5))\n",
    "plotSamplingMean(10000,1000,a,'Control Group')\n",
    "plotSamplingMean(10000,1000,b,'Experimental Group')"
   ]
  },
  {
   "cell_type": "markdown",
   "metadata": {},
   "source": [
    "### Segment data and run test"
   ]
  },
  {
   "cell_type": "code",
   "execution_count": 40,
   "metadata": {
    "scrolled": false
   },
   "outputs": [
    {
     "name": "stdout",
     "output_type": "stream",
     "text": [
      "[Timestamp('2021-01-20 00:00:00'), Timestamp('2021-01-21 00:00:00'), Timestamp('2021-01-22 00:00:00'), Timestamp('2021-01-23 00:00:00'), Timestamp('2021-01-24 00:00:00'), Timestamp('2021-01-25 00:00:00'), Timestamp('2021-01-26 00:00:00'), Timestamp('2021-01-27 00:00:00'), Timestamp('2021-01-28 00:00:00')]\n",
      "\n",
      " \n",
      "--------------------Segmented by: day0_date = 2021-01-20 00:00:00 --------------------\n",
      "Max day0:  2021-01-20 00:00:00\n",
      "Min day0:  2021-01-20 00:00:00\n",
      "  Group  Sample size   Mean   Stdev   95% CI of Mean\n",
      "0     A          323  9.173  12.961  (7.754, 10.592)\n",
      "1     B          289  9.097   9.302   (8.02, 10.174)\n",
      "\n",
      "\n",
      "                          Test for equality of means                          \n",
      "==============================================================================\n",
      "                 coef    std err          t      P>|t|      [0.025      0.975]\n",
      "------------------------------------------------------------------------------\n",
      "subset #1     -0.0755      0.922     -0.082      0.935      -1.885       1.734\n",
      "==============================================================================\n",
      "Difference between 2 means:  -0.076 +/- 0.905\n",
      "95% CI of difference between means:  (-1.8534692941012936, 1.702422126008051)\n",
      "95% CI of difference between means: [ -20.206 %,  18.559 % ]\n",
      "\n",
      " \n",
      "--------------------Segmented by: day0_date = 2021-01-21 00:00:00 --------------------\n",
      "Max day0:  2021-01-21 00:00:00\n",
      "Min day0:  2021-01-21 00:00:00\n",
      "  Group  Sample size   Mean   Stdev   95% CI of Mean\n",
      "0     A          478  9.335  12.053  (8.252, 10.418)\n",
      "1     B          405  9.957  10.133  (8.967, 10.946)\n",
      "\n",
      "\n",
      "                          Test for equality of means                          \n",
      "==============================================================================\n",
      "                 coef    std err          t      P>|t|      [0.025      0.975]\n",
      "------------------------------------------------------------------------------\n",
      "subset #1      0.6214      0.757      0.821      0.412      -0.865       2.108\n",
      "==============================================================================\n",
      "Difference between 2 means:  0.621 +/- 0.747\n",
      "95% CI of difference between means:  (-0.8439655327786515, 2.0867590655024353)\n",
      "95% CI of difference between means: [ -9.041 %,  22.354 % ]\n",
      "\n",
      " \n",
      "--------------------Segmented by: day0_date = 2021-01-22 00:00:00 --------------------\n",
      "Max day0:  2021-01-22 00:00:00\n",
      "Min day0:  2021-01-22 00:00:00\n",
      "  Group  Sample size    Mean   Stdev   95% CI of Mean\n",
      "0     A          508   9.153  12.035  (8.104, 10.202)\n",
      "1     B          424  11.411  14.448  (10.032, 12.79)\n",
      "\n",
      "\n",
      "                          Test for equality of means                          \n",
      "==============================================================================\n",
      "                 coef    std err          t      P>|t|      [0.025      0.975]\n",
      "------------------------------------------------------------------------------\n",
      "subset #1      2.2581      0.867      2.603      0.009       0.556       3.961\n",
      "==============================================================================\n",
      "Difference between 2 means:  2.258 +/- 0.882\n",
      "95% CI of difference between means:  (0.5274577476854361, 3.9888065518242994)\n",
      "95% CI of difference between means: [ 5.763 %,  43.579 % ]\n",
      "\n",
      " \n",
      "--------------------Segmented by: day0_date = 2021-01-23 00:00:00 --------------------\n",
      "Max day0:  2021-01-23 00:00:00\n",
      "Min day0:  2021-01-23 00:00:00\n",
      "  Group  Sample size    Mean   Stdev   95% CI of Mean\n",
      "0     A          566   9.449  12.908  (8.383, 10.514)\n",
      "1     B          468  10.158  11.325  (9.129, 11.187)\n",
      "\n",
      "\n",
      "                          Test for equality of means                          \n",
      "==============================================================================\n",
      "                 coef    std err          t      P>|t|      [0.025      0.975]\n",
      "------------------------------------------------------------------------------\n",
      "subset #1      0.7093      0.763      0.929      0.353      -0.789       2.207\n",
      "==============================================================================\n",
      "Difference between 2 means:  0.709 +/- 0.754\n",
      "95% CI of difference between means:  (-0.770164558386611, 2.1888033793222483)\n",
      "95% CI of difference between means: [ -8.151 %,  23.164 % ]\n",
      "\n",
      " \n",
      "--------------------Segmented by: day0_date = 2021-01-24 00:00:00 --------------------\n",
      "Max day0:  2021-01-24 00:00:00\n",
      "Min day0:  2021-01-24 00:00:00\n",
      "  Group  Sample size    Mean   Stdev  95% CI of Mean\n",
      "0     A          562   8.818  11.198   (7.89, 9.745)\n",
      "1     B          508  10.171  11.463  (9.172, 11.17)\n",
      "\n",
      "\n",
      "                          Test for equality of means                          \n",
      "==============================================================================\n",
      "                 coef    std err          t      P>|t|      [0.025      0.975]\n",
      "------------------------------------------------------------------------------\n",
      "subset #1      1.3533      0.693      1.952      0.051      -0.007       2.714\n",
      "==============================================================================\n",
      "Difference between 2 means:  1.353 +/- 0.694\n",
      "95% CI of difference between means:  (-0.00873030803435837, 2.71523127477295)\n",
      "95% CI of difference between means: [ -0.099 %,  30.792 % ]\n",
      "\n",
      " \n",
      "--------------------Segmented by: day0_date = 2021-01-25 00:00:00 --------------------\n",
      "Max day0:  2021-01-25 00:00:00\n",
      "Min day0:  2021-01-25 00:00:00\n",
      "  Group  Sample size    Mean   Stdev 95% CI of Mean\n",
      "0     A          428   8.374   9.749   (7.448, 9.3)\n",
      "1     B          362  10.890  12.673   (9.58, 12.2)\n",
      "\n",
      "\n",
      "                          Test for equality of means                          \n",
      "==============================================================================\n",
      "                 coef    std err          t      P>|t|      [0.025      0.975]\n",
      "------------------------------------------------------------------------------\n",
      "subset #1      2.5157      0.799      3.150      0.002       0.948       4.083\n",
      "==============================================================================\n",
      "Difference between 2 means:  2.516 +/- 0.816\n",
      "95% CI of difference between means:  (0.9136739826138964, 4.117753187314336)\n",
      "95% CI of difference between means: [ 10.911 %,  49.173 % ]\n",
      "\n",
      " \n",
      "--------------------Segmented by: day0_date = 2021-01-26 00:00:00 --------------------\n",
      "Max day0:  2021-01-26 00:00:00\n",
      "Min day0:  2021-01-26 00:00:00\n",
      "  Group  Sample size  Mean   Stdev  95% CI of Mean\n",
      "0     A          404  8.47  10.339  (7.459, 9.481)\n",
      "1     B          352  8.94   8.663  (8.032, 9.848)\n",
      "\n",
      "\n",
      "                          Test for equality of means                          \n",
      "==============================================================================\n",
      "                 coef    std err          t      P>|t|      [0.025      0.975]\n",
      "------------------------------------------------------------------------------\n",
      "subset #1      0.4697      0.700      0.671      0.502      -0.904       1.843\n",
      "==============================================================================\n",
      "Difference between 2 means:  0.47 +/- 0.691\n",
      "95% CI of difference between means:  (-0.8872002817290807, 1.8266467263735444)\n",
      "95% CI of difference between means: [ -10.475 %,  21.566 % ]\n",
      "\n",
      " \n",
      "--------------------Segmented by: day0_date = 2021-01-27 00:00:00 --------------------\n",
      "Max day0:  2021-01-27 00:00:00\n",
      "Min day0:  2021-01-27 00:00:00\n",
      "  Group  Sample size   Mean   Stdev  95% CI of Mean\n",
      "0     A          524  8.131   9.862  (7.285, 8.978)\n",
      "1     B          467  9.558  10.318  (8.62, 10.496)\n",
      "\n",
      "\n",
      "                          Test for equality of means                          \n",
      "==============================================================================\n",
      "                 coef    std err          t      P>|t|      [0.025      0.975]\n",
      "------------------------------------------------------------------------------\n",
      "subset #1      1.4265      0.641      2.224      0.026       0.168       2.685\n",
      "==============================================================================\n",
      "Difference between 2 means:  1.427 +/- 0.643\n",
      "95% CI of difference between means:  (0.16452034751922873, 2.688515924282264)\n",
      "95% CI of difference between means: [ 2.023 %,  33.065 % ]\n",
      "\n",
      " \n",
      "--------------------Segmented by: day0_date = 2021-01-28 00:00:00 --------------------\n",
      "Max day0:  2021-01-28 00:00:00\n",
      "Min day0:  2021-01-28 00:00:00\n",
      "  Group  Sample size    Mean   Stdev   95% CI of Mean\n",
      "0     A          543   9.268  11.635  (8.288, 10.249)\n",
      "1     B          438  10.830  12.551  (9.651, 12.009)\n",
      "\n",
      "\n",
      "                          Test for equality of means                          \n",
      "==============================================================================\n",
      "                 coef    std err          t      P>|t|      [0.025      0.975]\n",
      "------------------------------------------------------------------------------\n",
      "subset #1      1.5618      0.774      2.018      0.044       0.043       3.081\n",
      "==============================================================================\n",
      "Difference between 2 means:  1.562 +/- 0.78\n",
      "95% CI of difference between means:  (0.030279224213602074, 3.093346497928723)\n",
      "95% CI of difference between means: [ 0.327 %,  33.377 % ]\n"
     ]
    }
   ],
   "source": [
    "col = 'day0_date'\n",
    "groupby = df_test[col].value_counts().reset_index().sort_values('index')\n",
    "groupby.columns = [col,'count']\n",
    "col_values = list(groupby[groupby['count']>1000][col]) #Only run test when sample size > 1000\n",
    "print(col_values)\n",
    "\n",
    "for value in col_values:\n",
    "    df_subset = df_test[df_test[col]==value]\n",
    "    print(\"\\n \\n--------------------Segmented by:\", col,\"=\", value,'--------------------')\n",
    "    df_days,a,b = testing_by_dayinterval_sum_metric(df_subset,'combined_metric',day_window=3,exp_id='3',group_id='1')"
   ]
  },
  {
   "cell_type": "code",
   "execution_count": null,
   "metadata": {},
   "outputs": [],
   "source": [
    "df_subset = df_test[df_test[col].isin(['2021-01-01','2021-01-02','2020-12-27','2020-12-28'])]\n",
    "print(\"\\nSegmented by:\", col,\"=\", value)\n",
    "df_days,a,b = testing_by_dayinterval(df_subset,day_window=1)"
   ]
  },
  {
   "cell_type": "code",
   "execution_count": null,
   "metadata": {},
   "outputs": [],
   "source": [
    "metric = ['buy_skin_22', 'buy_skin_23', 'buy_skin_24', 'buy_skin_25', 'buy_skin_7', 'buy_skin_8', 'buy_skin_9', 'buy_skin_10', 'buy_skin_11', 'buy_skin_12', 'buy_skin_13', 'buy_skin_14', 'buy_skin_15', 'buy_skin_16', 'buy_skin_17', 'buy_skin_18', 'buy_skin_19']\n",
    "\n",
    "for m in metric:\n",
    "    print(\"\\n \\n--------------------AB Test Matric:\", m,' --------------------')\n",
    "    df_days,a,b = testing_by_dayinterval_sum_metric(df_test,m,day_window=3,exp_id='18',group_id='1')"
   ]
  },
  {
   "cell_type": "code",
   "execution_count": null,
   "metadata": {},
   "outputs": [],
   "source": []
  }
 ],
 "metadata": {
  "kernelspec": {
   "display_name": "Python 3",
   "language": "python",
   "name": "python3"
  },
  "language_info": {
   "codemirror_mode": {
    "name": "ipython",
    "version": 3
   },
   "file_extension": ".py",
   "mimetype": "text/x-python",
   "name": "python",
   "nbconvert_exporter": "python",
   "pygments_lexer": "ipython3",
   "version": "3.9.0"
  }
 },
 "nbformat": 4,
 "nbformat_minor": 4
}
